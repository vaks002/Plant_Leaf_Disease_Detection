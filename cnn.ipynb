{
  "nbformat": 4,
  "nbformat_minor": 0,
  "metadata": {
    "colab": {
      "name": "Aiiiiiiii.ipynb",
      "version": "0.3.2",
      "provenance": []
    },
    "kernelspec": {
      "name": "python3",
      "display_name": "Python 3"
    },
    "accelerator": "GPU"
  },
  "cells": [
    {
      "metadata": {
        "id": "YG96vC_3pYX7",
        "colab_type": "code",
        "outputId": "94ea7bc5-5f94-40d4-de33-ca793f2685c2",
        "colab": {
          "base_uri": "https://localhost:8080/",
          "height": 119
        }
      },
      "cell_type": "code",
      "source": [
        "!git clone https://github.com/ajayraj201651006/plant_leafdisease_detection.git"
      ],
      "execution_count": 0,
      "outputs": [
        {
          "output_type": "stream",
          "text": [
            "Cloning into 'plant_leafdisease_detection'...\n",
            "remote: Enumerating objects: 4004, done.\u001b[K\n",
            "remote: Counting objects:   0% (1/4004)   \u001b[K\rremote: Counting objects:   1% (41/4004)   \u001b[K\rremote: Counting objects:   2% (81/4004)   \u001b[K\rremote: Counting objects:   3% (121/4004)   \u001b[K\rremote: Counting objects:   4% (161/4004)   \u001b[K\rremote: Counting objects:   5% (201/4004)   \u001b[K\rremote: Counting objects:   6% (241/4004)   \u001b[K\rremote: Counting objects:   7% (281/4004)   \u001b[K\rremote: Counting objects:   8% (321/4004)   \u001b[K\rremote: Counting objects:   9% (361/4004)   \u001b[K\rremote: Counting objects:  10% (401/4004)   \u001b[K\rremote: Counting objects:  11% (441/4004)   \u001b[K\rremote: Counting objects:  12% (481/4004)   \u001b[K\rremote: Counting objects:  13% (521/4004)   \u001b[K\rremote: Counting objects:  14% (561/4004)   \u001b[K\rremote: Counting objects:  15% (601/4004)   \u001b[K\rremote: Counting objects:  16% (641/4004)   \u001b[K\rremote: Counting objects:  17% (681/4004)   \u001b[K\rremote: Counting objects:  18% (721/4004)   \u001b[K\rremote: Counting objects:  19% (761/4004)   \u001b[K\rremote: Counting objects:  20% (801/4004)   \u001b[K\rremote: Counting objects:  21% (841/4004)   \u001b[K\rremote: Counting objects:  22% (881/4004)   \u001b[K\rremote: Counting objects:  23% (921/4004)   \u001b[K\rremote: Counting objects:  24% (961/4004)   \u001b[K\rremote: Counting objects:  25% (1001/4004)   \u001b[K\rremote: Counting objects:  26% (1042/4004)   \u001b[K\rremote: Counting objects:  27% (1082/4004)   \u001b[K\rremote: Counting objects:  28% (1122/4004)   \u001b[K\rremote: Counting objects:  29% (1162/4004)   \u001b[K\rremote: Counting objects:  30% (1202/4004)   \u001b[K\rremote: Counting objects:  31% (1242/4004)   \u001b[K\rremote: Counting objects:  32% (1282/4004)   \u001b[K\rremote: Counting objects:  33% (1322/4004)   \u001b[K\rremote: Counting objects:  34% (1362/4004)   \u001b[K\rremote: Counting objects:  35% (1402/4004)   \u001b[K\rremote: Counting objects:  36% (1442/4004)   \u001b[K\rremote: Counting objects:  37% (1482/4004)   \u001b[K\rremote: Counting objects:  38% (1522/4004)   \u001b[K\rremote: Counting objects:  39% (1562/4004)   \u001b[K\rremote: Counting objects:  40% (1602/4004)   \u001b[K\rremote: Counting objects:  41% (1642/4004)   \u001b[K\rremote: Counting objects:  42% (1682/4004)   \u001b[K\rremote: Counting objects:  43% (1722/4004)   \u001b[K\rremote: Counting objects:  44% (1762/4004)   \u001b[K\rremote: Counting objects:  45% (1802/4004)   \u001b[K\rremote: Counting objects:  46% (1842/4004)   \u001b[K\rremote: Counting objects:  47% (1882/4004)   \u001b[K\rremote: Counting objects:  48% (1922/4004)   \u001b[K\rremote: Counting objects:  49% (1962/4004)   \u001b[K\rremote: Counting objects:  50% (2002/4004)   \u001b[K\rremote: Counting objects:  51% (2043/4004)   \u001b[K\rremote: Counting objects:  52% (2083/4004)   \u001b[K\rremote: Counting objects:  53% (2123/4004)   \u001b[K\rremote: Counting objects:  54% (2163/4004)   \u001b[K\rremote: Counting objects:  55% (2203/4004)   \u001b[K\rremote: Counting objects:  56% (2243/4004)   \u001b[K\rremote: Counting objects:  57% (2283/4004)   \u001b[K\rremote: Counting objects:  58% (2323/4004)   \u001b[K\rremote: Counting objects:  59% (2363/4004)   \u001b[K\rremote: Counting objects:  60% (2403/4004)   \u001b[K\rremote: Counting objects:  61% (2443/4004)   \u001b[K\rremote: Counting objects:  62% (2483/4004)   \u001b[K\rremote: Counting objects:  63% (2523/4004)   \u001b[K\rremote: Counting objects:  64% (2563/4004)   \u001b[K\rremote: Counting objects:  65% (2603/4004)   \u001b[K\rremote: Counting objects:  66% (2643/4004)   \u001b[K\rremote: Counting objects:  67% (2683/4004)   \u001b[K\rremote: Counting objects:  68% (2723/4004)   \u001b[K\rremote: Counting objects:  69% (2763/4004)   \u001b[K\rremote: Counting objects:  70% (2803/4004)   \u001b[K\rremote: Counting objects:  71% (2843/4004)   \u001b[K\rremote: Counting objects:  72% (2883/4004)   \u001b[K\rremote: Counting objects:  73% (2923/4004)   \u001b[K\rremote: Counting objects:  74% (2963/4004)   \u001b[K\rremote: Counting objects:  75% (3003/4004)   \u001b[K\rremote: Counting objects:  76% (3044/4004)   \u001b[K\rremote: Counting objects:  77% (3084/4004)   \u001b[K\rremote: Counting objects:  78% (3124/4004)   \u001b[K\rremote: Counting objects:  79% (3164/4004)   \u001b[K\rremote: Counting objects:  80% (3204/4004)   \u001b[K\rremote: Counting objects:  81% (3244/4004)   \u001b[K\rremote: Counting objects:  82% (3284/4004)   \u001b[K\rremote: Counting objects:  83% (3324/4004)   \u001b[K\rremote: Counting objects:  84% (3364/4004)   \u001b[K\rremote: Counting objects:  85% (3404/4004)   \u001b[K\rremote: Counting objects:  86% (3444/4004)   \u001b[K\rremote: Counting objects:  87% (3484/4004)   \u001b[K\rremote: Counting objects:  88% (3524/4004)   \u001b[K\rremote: Counting objects:  89% (3564/4004)   \u001b[K\rremote: Counting objects:  90% (3604/4004)   \u001b[K\rremote: Counting objects:  91% (3644/4004)   \u001b[K\rremote: Counting objects:  92% (3684/4004)   \u001b[K\rremote: Counting objects:  93% (3724/4004)   \u001b[K\rremote: Counting objects:  94% (3764/4004)   \u001b[K\rremote: Counting objects:  95% (3804/4004)   \u001b[K\rremote: Counting objects:  96% (3844/4004)   \u001b[K\rremote: Counting objects:  97% (3884/4004)   \u001b[K\rremote: Counting objects:  98% (3924/4004)   \u001b[K\rremote: Counting objects:  99% (3964/4004)   \u001b[K\rremote: Counting objects: 100% (4004/4004)   \u001b[K\rremote: Counting objects: 100% (4004/4004), done.\u001b[K\n",
            "remote: Compressing objects: 100% (4003/4003), done.\u001b[K\n",
            "remote: Total 4004 (delta 0), reused 4001 (delta 0), pack-reused 0\u001b[K\n",
            "Receiving objects: 100% (4004/4004), 57.81 MiB | 40.22 MiB/s, done.\n"
          ],
          "name": "stdout"
        }
      ]
    },
    {
      "metadata": {
        "id": "BByqzV5npjX8",
        "colab_type": "code",
        "colab": {}
      },
      "cell_type": "code",
      "source": [
        "import torch\n",
        "import torch.nn as nn\n",
        "from torch.utils.data import Dataset, DataLoader\n",
        "from PIL import Image\n",
        "import os\n",
        "from torchvision import transforms\n",
        "import torch.nn.functional as F\n",
        "from collections import defaultdict"
      ],
      "execution_count": 0,
      "outputs": []
    },
    {
      "metadata": {
        "id": "E-SfBck3puS5",
        "colab_type": "code",
        "colab": {}
      },
      "cell_type": "code",
      "source": [
        "class Data(Dataset):\n",
        "  def __init__(self, path):\n",
        "    self.paths = os.listdir(path)\n",
        "    self.path = path\n",
        "    self.disese = {'h': 0, 'b': 1, 'v': 2, 'l':3}\n",
        "    self.d_count = defaultdict(int)\n",
        "  def __getitem__(self, index):\n",
        "    tfm = transforms.ToTensor()\n",
        "    self.d_count[self.disese[self.paths[index][0]]] += 1\n",
        "    return tfm(Image.open(self.path + self.paths[index])), torch.LongTensor([self.disese[self.paths[index][0]]])\n",
        "  def __len__(self):\n",
        "    return len(self.paths)"
      ],
      "execution_count": 0,
      "outputs": []
    },
    {
      "metadata": {
        "id": "fgCmFJANqIQ4",
        "colab_type": "code",
        "colab": {}
      },
      "cell_type": "code",
      "source": [
        "dataset_train = Data('plant_leafdisease_detection/data_set/train/')\n",
        "dl_train = DataLoader(dataset_train, batch_size=30)"
      ],
      "execution_count": 0,
      "outputs": []
    },
    {
      "metadata": {
        "id": "7c1jn6XwetLU",
        "colab_type": "code",
        "colab": {}
      },
      "cell_type": "code",
      "source": [
        "dataset_test = Data('plant_leafdisease_detection/data_set/test/')\n",
        "dl_test = DataLoader(dataset_test, batch_size=30)"
      ],
      "execution_count": 0,
      "outputs": []
    },
    {
      "metadata": {
        "id": "063wPKP7qnkh",
        "colab_type": "code",
        "outputId": "d09c432a-2c46-47b6-92a1-4abce0f073f1",
        "colab": {
          "base_uri": "https://localhost:8080/",
          "height": 4097
        }
      },
      "cell_type": "code",
      "source": [
        "for img, dis in dl_train:\n",
        "  print(img.size())\n",
        "  print(dis.size())"
      ],
      "execution_count": 0,
      "outputs": [
        {
          "output_type": "stream",
          "text": [
            "torch.Size([30, 3, 256, 256])\n",
            "torch.Size([30, 1])\n",
            "torch.Size([30, 3, 256, 256])\n",
            "torch.Size([30, 1])\n",
            "torch.Size([30, 3, 256, 256])\n",
            "torch.Size([30, 1])\n",
            "torch.Size([30, 3, 256, 256])\n",
            "torch.Size([30, 1])\n",
            "torch.Size([30, 3, 256, 256])\n",
            "torch.Size([30, 1])\n",
            "torch.Size([30, 3, 256, 256])\n",
            "torch.Size([30, 1])\n",
            "torch.Size([30, 3, 256, 256])\n",
            "torch.Size([30, 1])\n",
            "torch.Size([30, 3, 256, 256])\n",
            "torch.Size([30, 1])\n",
            "torch.Size([30, 3, 256, 256])\n",
            "torch.Size([30, 1])\n",
            "torch.Size([30, 3, 256, 256])\n",
            "torch.Size([30, 1])\n",
            "torch.Size([30, 3, 256, 256])\n",
            "torch.Size([30, 1])\n",
            "torch.Size([30, 3, 256, 256])\n",
            "torch.Size([30, 1])\n",
            "torch.Size([30, 3, 256, 256])\n",
            "torch.Size([30, 1])\n",
            "torch.Size([30, 3, 256, 256])\n",
            "torch.Size([30, 1])\n",
            "torch.Size([30, 3, 256, 256])\n",
            "torch.Size([30, 1])\n",
            "torch.Size([30, 3, 256, 256])\n",
            "torch.Size([30, 1])\n",
            "torch.Size([30, 3, 256, 256])\n",
            "torch.Size([30, 1])\n",
            "torch.Size([30, 3, 256, 256])\n",
            "torch.Size([30, 1])\n",
            "torch.Size([30, 3, 256, 256])\n",
            "torch.Size([30, 1])\n",
            "torch.Size([30, 3, 256, 256])\n",
            "torch.Size([30, 1])\n",
            "torch.Size([30, 3, 256, 256])\n",
            "torch.Size([30, 1])\n",
            "torch.Size([30, 3, 256, 256])\n",
            "torch.Size([30, 1])\n",
            "torch.Size([30, 3, 256, 256])\n",
            "torch.Size([30, 1])\n",
            "torch.Size([30, 3, 256, 256])\n",
            "torch.Size([30, 1])\n",
            "torch.Size([30, 3, 256, 256])\n",
            "torch.Size([30, 1])\n",
            "torch.Size([30, 3, 256, 256])\n",
            "torch.Size([30, 1])\n",
            "torch.Size([30, 3, 256, 256])\n",
            "torch.Size([30, 1])\n",
            "torch.Size([30, 3, 256, 256])\n",
            "torch.Size([30, 1])\n",
            "torch.Size([30, 3, 256, 256])\n",
            "torch.Size([30, 1])\n",
            "torch.Size([30, 3, 256, 256])\n",
            "torch.Size([30, 1])\n",
            "torch.Size([30, 3, 256, 256])\n",
            "torch.Size([30, 1])\n",
            "torch.Size([30, 3, 256, 256])\n",
            "torch.Size([30, 1])\n",
            "torch.Size([30, 3, 256, 256])\n",
            "torch.Size([30, 1])\n",
            "torch.Size([30, 3, 256, 256])\n",
            "torch.Size([30, 1])\n",
            "torch.Size([30, 3, 256, 256])\n",
            "torch.Size([30, 1])\n",
            "torch.Size([30, 3, 256, 256])\n",
            "torch.Size([30, 1])\n",
            "torch.Size([30, 3, 256, 256])\n",
            "torch.Size([30, 1])\n",
            "torch.Size([30, 3, 256, 256])\n",
            "torch.Size([30, 1])\n",
            "torch.Size([30, 3, 256, 256])\n",
            "torch.Size([30, 1])\n",
            "torch.Size([30, 3, 256, 256])\n",
            "torch.Size([30, 1])\n",
            "torch.Size([30, 3, 256, 256])\n",
            "torch.Size([30, 1])\n",
            "torch.Size([30, 3, 256, 256])\n",
            "torch.Size([30, 1])\n",
            "torch.Size([30, 3, 256, 256])\n",
            "torch.Size([30, 1])\n",
            "torch.Size([30, 3, 256, 256])\n",
            "torch.Size([30, 1])\n",
            "torch.Size([30, 3, 256, 256])\n",
            "torch.Size([30, 1])\n",
            "torch.Size([30, 3, 256, 256])\n",
            "torch.Size([30, 1])\n",
            "torch.Size([30, 3, 256, 256])\n",
            "torch.Size([30, 1])\n",
            "torch.Size([30, 3, 256, 256])\n",
            "torch.Size([30, 1])\n",
            "torch.Size([30, 3, 256, 256])\n",
            "torch.Size([30, 1])\n",
            "torch.Size([30, 3, 256, 256])\n",
            "torch.Size([30, 1])\n",
            "torch.Size([30, 3, 256, 256])\n",
            "torch.Size([30, 1])\n",
            "torch.Size([30, 3, 256, 256])\n",
            "torch.Size([30, 1])\n",
            "torch.Size([30, 3, 256, 256])\n",
            "torch.Size([30, 1])\n",
            "torch.Size([30, 3, 256, 256])\n",
            "torch.Size([30, 1])\n",
            "torch.Size([30, 3, 256, 256])\n",
            "torch.Size([30, 1])\n",
            "torch.Size([30, 3, 256, 256])\n",
            "torch.Size([30, 1])\n",
            "torch.Size([30, 3, 256, 256])\n",
            "torch.Size([30, 1])\n",
            "torch.Size([30, 3, 256, 256])\n",
            "torch.Size([30, 1])\n",
            "torch.Size([30, 3, 256, 256])\n",
            "torch.Size([30, 1])\n",
            "torch.Size([30, 3, 256, 256])\n",
            "torch.Size([30, 1])\n",
            "torch.Size([30, 3, 256, 256])\n",
            "torch.Size([30, 1])\n",
            "torch.Size([30, 3, 256, 256])\n",
            "torch.Size([30, 1])\n",
            "torch.Size([30, 3, 256, 256])\n",
            "torch.Size([30, 1])\n",
            "torch.Size([30, 3, 256, 256])\n",
            "torch.Size([30, 1])\n",
            "torch.Size([30, 3, 256, 256])\n",
            "torch.Size([30, 1])\n",
            "torch.Size([30, 3, 256, 256])\n",
            "torch.Size([30, 1])\n",
            "torch.Size([30, 3, 256, 256])\n",
            "torch.Size([30, 1])\n",
            "torch.Size([30, 3, 256, 256])\n",
            "torch.Size([30, 1])\n",
            "torch.Size([30, 3, 256, 256])\n",
            "torch.Size([30, 1])\n",
            "torch.Size([30, 3, 256, 256])\n",
            "torch.Size([30, 1])\n",
            "torch.Size([30, 3, 256, 256])\n",
            "torch.Size([30, 1])\n",
            "torch.Size([30, 3, 256, 256])\n",
            "torch.Size([30, 1])\n",
            "torch.Size([30, 3, 256, 256])\n",
            "torch.Size([30, 1])\n",
            "torch.Size([30, 3, 256, 256])\n",
            "torch.Size([30, 1])\n",
            "torch.Size([30, 3, 256, 256])\n",
            "torch.Size([30, 1])\n",
            "torch.Size([30, 3, 256, 256])\n",
            "torch.Size([30, 1])\n",
            "torch.Size([30, 3, 256, 256])\n",
            "torch.Size([30, 1])\n",
            "torch.Size([30, 3, 256, 256])\n",
            "torch.Size([30, 1])\n",
            "torch.Size([30, 3, 256, 256])\n",
            "torch.Size([30, 1])\n",
            "torch.Size([30, 3, 256, 256])\n",
            "torch.Size([30, 1])\n",
            "torch.Size([30, 3, 256, 256])\n",
            "torch.Size([30, 1])\n",
            "torch.Size([30, 3, 256, 256])\n",
            "torch.Size([30, 1])\n",
            "torch.Size([30, 3, 256, 256])\n",
            "torch.Size([30, 1])\n",
            "torch.Size([30, 3, 256, 256])\n",
            "torch.Size([30, 1])\n",
            "torch.Size([30, 3, 256, 256])\n",
            "torch.Size([30, 1])\n",
            "torch.Size([30, 3, 256, 256])\n",
            "torch.Size([30, 1])\n",
            "torch.Size([30, 3, 256, 256])\n",
            "torch.Size([30, 1])\n",
            "torch.Size([30, 3, 256, 256])\n",
            "torch.Size([30, 1])\n",
            "torch.Size([30, 3, 256, 256])\n",
            "torch.Size([30, 1])\n",
            "torch.Size([30, 3, 256, 256])\n",
            "torch.Size([30, 1])\n",
            "torch.Size([30, 3, 256, 256])\n",
            "torch.Size([30, 1])\n",
            "torch.Size([30, 3, 256, 256])\n",
            "torch.Size([30, 1])\n",
            "torch.Size([30, 3, 256, 256])\n",
            "torch.Size([30, 1])\n",
            "torch.Size([30, 3, 256, 256])\n",
            "torch.Size([30, 1])\n",
            "torch.Size([30, 3, 256, 256])\n",
            "torch.Size([30, 1])\n",
            "torch.Size([30, 3, 256, 256])\n",
            "torch.Size([30, 1])\n",
            "torch.Size([30, 3, 256, 256])\n",
            "torch.Size([30, 1])\n",
            "torch.Size([30, 3, 256, 256])\n",
            "torch.Size([30, 1])\n",
            "torch.Size([30, 3, 256, 256])\n",
            "torch.Size([30, 1])\n",
            "torch.Size([30, 3, 256, 256])\n",
            "torch.Size([30, 1])\n",
            "torch.Size([30, 3, 256, 256])\n",
            "torch.Size([30, 1])\n",
            "torch.Size([30, 3, 256, 256])\n",
            "torch.Size([30, 1])\n",
            "torch.Size([30, 3, 256, 256])\n",
            "torch.Size([30, 1])\n",
            "torch.Size([30, 3, 256, 256])\n",
            "torch.Size([30, 1])\n",
            "torch.Size([30, 3, 256, 256])\n",
            "torch.Size([30, 1])\n",
            "torch.Size([30, 3, 256, 256])\n",
            "torch.Size([30, 1])\n",
            "torch.Size([30, 3, 256, 256])\n",
            "torch.Size([30, 1])\n",
            "torch.Size([30, 3, 256, 256])\n",
            "torch.Size([30, 1])\n",
            "torch.Size([30, 3, 256, 256])\n",
            "torch.Size([30, 1])\n",
            "torch.Size([30, 3, 256, 256])\n",
            "torch.Size([30, 1])\n",
            "torch.Size([30, 3, 256, 256])\n",
            "torch.Size([30, 1])\n",
            "torch.Size([30, 3, 256, 256])\n",
            "torch.Size([30, 1])\n",
            "torch.Size([30, 3, 256, 256])\n",
            "torch.Size([30, 1])\n",
            "torch.Size([30, 3, 256, 256])\n",
            "torch.Size([30, 1])\n",
            "torch.Size([30, 3, 256, 256])\n",
            "torch.Size([30, 1])\n",
            "torch.Size([30, 3, 256, 256])\n",
            "torch.Size([30, 1])\n",
            "torch.Size([30, 3, 256, 256])\n",
            "torch.Size([30, 1])\n",
            "torch.Size([30, 3, 256, 256])\n",
            "torch.Size([30, 1])\n",
            "torch.Size([30, 3, 256, 256])\n",
            "torch.Size([30, 1])\n",
            "torch.Size([30, 3, 256, 256])\n",
            "torch.Size([30, 1])\n"
          ],
          "name": "stdout"
        }
      ]
    },
    {
      "metadata": {
        "id": "AQ0S5ocQfIJG",
        "colab_type": "code",
        "outputId": "c230b992-2674-464b-fc13-dff0efce427d",
        "colab": {
          "base_uri": "https://localhost:8080/",
          "height": 493
        }
      },
      "cell_type": "code",
      "source": [
        " for img_tes, dis_tes in dl_test:\n",
        "    print(img.size())\n",
        "    print(dis.size())"
      ],
      "execution_count": 0,
      "outputs": [
        {
          "output_type": "stream",
          "text": [
            "torch.Size([30, 3, 256, 256])\n",
            "torch.Size([30, 1])\n",
            "torch.Size([30, 3, 256, 256])\n",
            "torch.Size([30, 1])\n",
            "torch.Size([30, 3, 256, 256])\n",
            "torch.Size([30, 1])\n",
            "torch.Size([30, 3, 256, 256])\n",
            "torch.Size([30, 1])\n",
            "torch.Size([30, 3, 256, 256])\n",
            "torch.Size([30, 1])\n",
            "torch.Size([30, 3, 256, 256])\n",
            "torch.Size([30, 1])\n",
            "torch.Size([30, 3, 256, 256])\n",
            "torch.Size([30, 1])\n",
            "torch.Size([30, 3, 256, 256])\n",
            "torch.Size([30, 1])\n",
            "torch.Size([30, 3, 256, 256])\n",
            "torch.Size([30, 1])\n",
            "torch.Size([30, 3, 256, 256])\n",
            "torch.Size([30, 1])\n",
            "torch.Size([30, 3, 256, 256])\n",
            "torch.Size([30, 1])\n",
            "torch.Size([30, 3, 256, 256])\n",
            "torch.Size([30, 1])\n",
            "torch.Size([30, 3, 256, 256])\n",
            "torch.Size([30, 1])\n",
            "torch.Size([30, 3, 256, 256])\n",
            "torch.Size([30, 1])\n"
          ],
          "name": "stdout"
        }
      ]
    },
    {
      "metadata": {
        "id": "9aWOUKdJquL4",
        "colab_type": "code",
        "colab": {}
      },
      "cell_type": "code",
      "source": [
        "class Net(nn.Module):\n",
        "    def __init__(self):\n",
        "        super(Net, self).__init__()\n",
        "        self.conv1 = nn.Conv2d(3, 32, 3)\n",
        "        self.conv2 = nn.Conv2d(32, 64, 3)\n",
        "        self.conv3 = nn.Conv2d(64, 4, 3)\n",
        "\n",
        "    def forward(self, x):\n",
        "        x = F.relu(self.conv1(x))\n",
        "        x = F.max_pool2d(x, 2, 2)\n",
        "        x = F.relu(self.conv2(x))\n",
        "        x = F.max_pool2d(x, 2, 2)\n",
        "        x = F.relu(self.conv3(x))\n",
        "        x = F.adaptive_avg_pool2d(x, 1)\n",
        "        x = x.view(x.shape[0], -1)\n",
        "        return x\n"
      ],
      "execution_count": 0,
      "outputs": []
    },
    {
      "metadata": {
        "id": "fSOCgFqZsd6h",
        "colab_type": "code",
        "colab": {}
      },
      "cell_type": "code",
      "source": [
        "model = Net().cuda()"
      ],
      "execution_count": 0,
      "outputs": []
    },
    {
      "metadata": {
        "id": "RG2GUwdIt_i4",
        "colab_type": "code",
        "colab": {}
      },
      "cell_type": "code",
      "source": [
        "loss = nn.CrossEntropyLoss().cuda()"
      ],
      "execution_count": 0,
      "outputs": []
    },
    {
      "metadata": {
        "id": "05JIqR1aupAN",
        "colab_type": "code",
        "colab": {}
      },
      "cell_type": "code",
      "source": [
        "opt = torch.optim.Adam(model.parameters(), 1e-3)"
      ],
      "execution_count": 0,
      "outputs": []
    },
    {
      "metadata": {
        "id": "n4uQM0EPuHbp",
        "colab_type": "code",
        "outputId": "e4803d83-c195-4bad-d338-fa0a013453f4",
        "colab": {
          "base_uri": "https://localhost:8080/",
          "height": 1207
        }
      },
      "cell_type": "code",
      "source": [
        "for _ in range(35):\n",
        "  print('epoch', _)\n",
        "  for img, dis in dl_train:\n",
        "    opt.zero_grad()\n",
        "    op = model(img.cuda())\n",
        "    l = loss(op, torch.squeeze(dis, dim=1).cuda())\n",
        "    l.backward()\n",
        "    opt.step()\n",
        "  print(l)"
      ],
      "execution_count": 0,
      "outputs": [
        {
          "output_type": "stream",
          "text": [
            "epoch 0\n",
            "tensor(1.1363, device='cuda:0', grad_fn=<NllLossBackward>)\n",
            "epoch 1\n",
            "tensor(0.9591, device='cuda:0', grad_fn=<NllLossBackward>)\n",
            "epoch 2\n",
            "tensor(0.8743, device='cuda:0', grad_fn=<NllLossBackward>)\n",
            "epoch 3\n",
            "tensor(0.8387, device='cuda:0', grad_fn=<NllLossBackward>)\n",
            "epoch 4\n",
            "tensor(0.8193, device='cuda:0', grad_fn=<NllLossBackward>)\n",
            "epoch 5\n",
            "tensor(0.7995, device='cuda:0', grad_fn=<NllLossBackward>)\n",
            "epoch 6\n",
            "tensor(0.7816, device='cuda:0', grad_fn=<NllLossBackward>)\n",
            "epoch 7\n",
            "tensor(0.7624, device='cuda:0', grad_fn=<NllLossBackward>)\n",
            "epoch 8\n",
            "tensor(0.7424, device='cuda:0', grad_fn=<NllLossBackward>)\n",
            "epoch 9\n",
            "tensor(0.7244, device='cuda:0', grad_fn=<NllLossBackward>)\n",
            "epoch 10\n",
            "tensor(0.7061, device='cuda:0', grad_fn=<NllLossBackward>)\n",
            "epoch 11\n",
            "tensor(0.7003, device='cuda:0', grad_fn=<NllLossBackward>)\n",
            "epoch 12\n",
            "tensor(0.6858, device='cuda:0', grad_fn=<NllLossBackward>)\n",
            "epoch 13\n",
            "tensor(0.6858, device='cuda:0', grad_fn=<NllLossBackward>)\n",
            "epoch 14\n",
            "tensor(0.6804, device='cuda:0', grad_fn=<NllLossBackward>)\n",
            "epoch 15\n",
            "tensor(0.6793, device='cuda:0', grad_fn=<NllLossBackward>)\n",
            "epoch 16\n",
            "tensor(0.6761, device='cuda:0', grad_fn=<NllLossBackward>)\n",
            "epoch 17\n",
            "tensor(0.6723, device='cuda:0', grad_fn=<NllLossBackward>)\n",
            "epoch 18\n",
            "tensor(0.6691, device='cuda:0', grad_fn=<NllLossBackward>)\n",
            "epoch 19\n",
            "tensor(0.6661, device='cuda:0', grad_fn=<NllLossBackward>)\n",
            "epoch 20\n",
            "tensor(0.6682, device='cuda:0', grad_fn=<NllLossBackward>)\n",
            "epoch 21\n",
            "tensor(0.6636, device='cuda:0', grad_fn=<NllLossBackward>)\n",
            "epoch 22\n",
            "tensor(0.6626, device='cuda:0', grad_fn=<NllLossBackward>)\n",
            "epoch 23\n",
            "tensor(0.6621, device='cuda:0', grad_fn=<NllLossBackward>)\n",
            "epoch 24\n",
            "tensor(0.6586, device='cuda:0', grad_fn=<NllLossBackward>)\n",
            "epoch 25\n",
            "tensor(0.6587, device='cuda:0', grad_fn=<NllLossBackward>)\n",
            "epoch 26\n",
            "tensor(0.6624, device='cuda:0', grad_fn=<NllLossBackward>)\n",
            "epoch 27\n",
            "tensor(0.6539, device='cuda:0', grad_fn=<NllLossBackward>)\n",
            "epoch 28\n",
            "tensor(0.6538, device='cuda:0', grad_fn=<NllLossBackward>)\n",
            "epoch 29\n",
            "tensor(0.6565, device='cuda:0', grad_fn=<NllLossBackward>)\n",
            "epoch 30\n",
            "tensor(0.6599, device='cuda:0', grad_fn=<NllLossBackward>)\n",
            "epoch 31\n",
            "tensor(0.6601, device='cuda:0', grad_fn=<NllLossBackward>)\n",
            "epoch 32\n",
            "tensor(0.6555, device='cuda:0', grad_fn=<NllLossBackward>)\n",
            "epoch 33\n",
            "tensor(0.6545, device='cuda:0', grad_fn=<NllLossBackward>)\n",
            "epoch 34\n",
            "tensor(0.6545, device='cuda:0', grad_fn=<NllLossBackward>)\n"
          ],
          "name": "stdout"
        }
      ]
    },
    {
      "metadata": {
        "id": "zFzmychdu6y4",
        "colab_type": "code",
        "colab": {}
      },
      "cell_type": "code",
      "source": [
        "count = 0\n",
        "for img, dis in dl_train:\n",
        "    op = model(img.cuda())\n",
        "    #print(op.argmax(dim=1))\n",
        "    count += (torch.log_softmax(op, dim=1).argmax(dim=1, keepdim=True) == dis.cuda()).float().mean()\n",
        "count = count / len(dl_train)"
      ],
      "execution_count": 0,
      "outputs": []
    },
    {
      "metadata": {
        "id": "kg_r3UfAvsKW",
        "colab_type": "code",
        "outputId": "10b6e6ad-4cbb-4e87-8dd1-12130561fac4",
        "colab": {
          "base_uri": "https://localhost:8080/",
          "height": 34
        }
      },
      "cell_type": "code",
      "source": [
        "count"
      ],
      "execution_count": 0,
      "outputs": [
        {
          "output_type": "execute_result",
          "data": {
            "text/plain": [
              "tensor(0.6664, device='cuda:0')"
            ]
          },
          "metadata": {
            "tags": []
          },
          "execution_count": 63
        }
      ]
    },
    {
      "metadata": {
        "id": "InWhVDhPiaJT",
        "colab_type": "code",
        "colab": {}
      },
      "cell_type": "code",
      "source": [
        "count_tes = 0\n",
        "for img_tes, dis_tes in dl_test:\n",
        "    op = model(img_tes.cuda())\n",
        "    #print(op.argmax(dim=1))\n",
        "    count_tes += (torch.log_softmax(op, dim=1).argmax(dim=1, keepdim=True) == dis_tes.cuda()).float().mean()\n",
        "count_tes = count_tes / len(dl_test)"
      ],
      "execution_count": 0,
      "outputs": []
    },
    {
      "metadata": {
        "id": "JNSHvcqxiumK",
        "colab_type": "code",
        "outputId": "8daeef00-e7c2-4b59-972d-b14ea3083c03",
        "colab": {
          "base_uri": "https://localhost:8080/",
          "height": 34
        }
      },
      "cell_type": "code",
      "source": [
        "count_tes"
      ],
      "execution_count": 0,
      "outputs": [
        {
          "output_type": "execute_result",
          "data": {
            "text/plain": [
              "tensor(0.6810, device='cuda:0')"
            ]
          },
          "metadata": {
            "tags": []
          },
          "execution_count": 76
        }
      ]
    },
    {
      "metadata": {
        "id": "KIYoZ7N5wks4",
        "colab_type": "code",
        "colab": {}
      },
      "cell_type": "code",
      "source": [
        "op = model(torch.unsqueeze(img_tes[6, :, :, :], dim=0).cuda())"
      ],
      "execution_count": 0,
      "outputs": []
    },
    {
      "metadata": {
        "id": "C2Kwr2ivzYGC",
        "colab_type": "code",
        "outputId": "7d3320c1-07f9-49cc-e8a8-8b78ebbffbfc",
        "colab": {
          "base_uri": "https://localhost:8080/",
          "height": 34
        }
      },
      "cell_type": "code",
      "source": [
        "op.argmax()"
      ],
      "execution_count": 0,
      "outputs": [
        {
          "output_type": "execute_result",
          "data": {
            "text/plain": [
              "tensor(3, device='cuda:0')"
            ]
          },
          "metadata": {
            "tags": []
          },
          "execution_count": 78
        }
      ]
    },
    {
      "metadata": {
        "id": "17axp7gszksh",
        "colab_type": "code",
        "colab": {}
      },
      "cell_type": "code",
      "source": [
        "import matplotlib.pyplot as plt"
      ],
      "execution_count": 0,
      "outputs": []
    },
    {
      "metadata": {
        "id": "R4s8yMlqz8I_",
        "colab_type": "code",
        "outputId": "abca0023-2451-4b2e-d9d9-f985f70ee15c",
        "colab": {
          "base_uri": "https://localhost:8080/",
          "height": 286
        }
      },
      "cell_type": "code",
      "source": [
        "plt.imshow(transforms.ToPILImage()(img[6, :, :, :].detach().cpu()))"
      ],
      "execution_count": 0,
      "outputs": [
        {
          "output_type": "execute_result",
          "data": {
            "text/plain": [
              "<matplotlib.image.AxesImage at 0x7fb27074ec18>"
            ]
          },
          "metadata": {
            "tags": []
          },
          "execution_count": 80
        },
        {
          "output_type": "display_data",
          "data": {
            "image/png": "[encoded data removed]",
            "text/plain": [
              "<Figure size 432x288 with 1 Axes>"
            ]
          },
          "metadata": {
            "tags": []
          }
        }
      ]
    },
    {
      "metadata": {
        "id": "ldJKErDL0MTJ",
        "colab_type": "code",
        "outputId": "2f767fd8-d67b-42c7-c426-da4ac29a036c",
        "colab": {
          "base_uri": "https://localhost:8080/",
          "height": 34
        }
      },
      "cell_type": "code",
      "source": [
        "dataset_train.d_count"
      ],
      "execution_count": 0,
      "outputs": [
        {
          "output_type": "execute_result",
          "data": {
            "text/plain": [
              "defaultdict(int, {0: 33300, 1: 33300, 2: 33300, 3: 33300})"
            ]
          },
          "metadata": {
            "tags": []
          },
          "execution_count": 72
        }
      ]
    },
    {
      "metadata": {
        "id": "2RtPhrSM1f5R",
        "colab_type": "code",
        "outputId": "ecaa8196-84a8-4afd-f5f4-99d669f255ae",
        "colab": {
          "base_uri": "https://localhost:8080/",
          "height": 34
        }
      },
      "cell_type": "code",
      "source": [
        "dataset_test.d_count"
      ],
      "execution_count": 0,
      "outputs": [
        {
          "output_type": "execute_result",
          "data": {
            "text/plain": [
              "defaultdict(int, {0: 200, 1: 200, 2: 200, 3: 200})"
            ]
          },
          "metadata": {
            "tags": []
          },
          "execution_count": 81
        }
      ]
    },
    {
      "metadata": {
        "id": "NDyDjpetaIBA",
        "colab_type": "code",
        "colab": {}
      },
      "cell_type": "code",
      "source": [
        ""
      ],
      "execution_count": 0,
      "outputs": []
    }
  ]
}